{
 "cells": [
  {
   "cell_type": "code",
   "execution_count": 5,
   "id": "6bbcac7f",
   "metadata": {},
   "outputs": [],
   "source": [
    "import random"
   ]
  },
  {
   "cell_type": "code",
   "execution_count": 8,
   "id": "c5445a3f",
   "metadata": {},
   "outputs": [
    {
     "name": "stdout",
     "output_type": "stream",
     "text": [
      "Enter the length of password : 5\n",
      "5K710\n"
     ]
    }
   ],
   "source": [
    "#entering length of the password\n",
    "passlen = int(input(\"Enter the length of password : \"))\n",
    "\n",
    "#The set of variables to create password\n",
    "s=\"abcdefghijklmnopqrstuvwxyz01234567890ABCDEFGHIJKLMNOPQRSTUVWXYZ!@#$%^&*?\"\n",
    "\n",
    "#creating a random string for password\n",
    "p = \"\".join(random.sample(s,passlen ))\n",
    "print(p)"
   ]
  }
 ],
 "metadata": {
  "kernelspec": {
   "display_name": "Python 3 (ipykernel)",
   "language": "python",
   "name": "python3"
  },
  "language_info": {
   "codemirror_mode": {
    "name": "ipython",
    "version": 3
   },
   "file_extension": ".py",
   "mimetype": "text/x-python",
   "name": "python",
   "nbconvert_exporter": "python",
   "pygments_lexer": "ipython3",
   "version": "3.9.7"
  }
 },
 "nbformat": 4,
 "nbformat_minor": 5
}
